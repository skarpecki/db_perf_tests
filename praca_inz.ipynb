{
 "cells": [
  {
   "cell_type": "code",
   "execution_count": 2,
   "metadata": {},
   "outputs": [],
   "source": [
    "import results_reader.results_reader as rr\n",
    "import matplotlib.pyplot as plt\n",
    "import numpy as np\n",
    "import pandas as pd"
   ]
  },
  {
   "cell_type": "code",
   "execution_count": 92,
   "metadata": {},
   "outputs": [],
   "source": [
    "legend = [(\"MySQL\", \"InnoDB\", \"purple\"),\n",
    "          (\"MySQL\", \"MyISAM\", \"orange\"),\n",
    "          (\"MariaDB\", \"InnoDB\", \"green\"),\n",
    "          (\"MariaDB\", \"Aria\", \"pink\"),\n",
    "          (\"MSSQL\", \"MSSQL\", \"red\"),\n",
    "          (\"Oracle\", \"Oracle\", \"brown\"),\n",
    "          (\"Postgres\", \"Postgres\", \"blue\")]"
   ]
  },
  {
   "cell_type": "code",
   "execution_count": 3,
   "metadata": {},
   "outputs": [],
   "source": [
    "mysql_innodb_path = r\"C:\\Users\\szymon\\OneDrive\\praca_inzyneirska\\wyniki\\mysql_innodb\"\n",
    "mysql_myisam_path = r\"C:\\Users\\szymon\\OneDrive\\praca_inzyneirska\\wyniki\\mysql_myisam\"\n",
    "mariadb_innodb_path = r\"C:\\Users\\szymon\\OneDrive\\praca_inzyneirska\\wyniki\\mariadb_innodb\"\n",
    "mariadb_aria_path = r\"C:\\Users\\szymon\\OneDrive\\praca_inzyneirska\\wyniki\\mariadb_aria\"\n",
    "mssql_path = r\"C:\\Users\\szymon\\OneDrive\\praca_inzyneirska\\wyniki\\mssql\"\n",
    "postgres_path = r\"C:\\Users\\Szymon\\OneDrive\\praca_inzyneirska\\wyniki\\postgres\"\n",
    "oracle_path = r\"C:\\Users\\Szymon\\OneDrive\\praca_inzyneirska\\wyniki\\oracle\"\n",
    "cpu_cores_mapper = rr.CPUCoresMapper({\"results_1cpus\": 1,\n",
    "                                   \"results_2cpus\": 2,\n",
    "                                   \"results_4cpus\": 4})\n",
    "indexing_mapper = rr.IndexingMapper({\"before_index\": False,\n",
    "                                  \"after_index\": True})"
   ]
  },
  {
   "cell_type": "code",
   "execution_count": 4,
   "metadata": {},
   "outputs": [],
   "source": [
    "df = rr.DatabaseResultsReader(mysql_innodb_path, \"MySQL\", \"InnoDB\", cpu_cores_mapper, indexing_mapper).getDataFrame(2)\n",
    "df = df.append(rr.DatabaseResultsReader(mysql_myisam_path, \"MySQL\", \"MyISAM\", cpu_cores_mapper, indexing_mapper).getDataFrame(2), ignore_index=True)\n",
    "df = df.append(rr.DatabaseResultsReader(mariadb_innodb_path, \"MariaDB\", \"InnoDB\", cpu_cores_mapper, indexing_mapper).getDataFrame(2), ignore_index=True)\n",
    "df = df.append(rr.DatabaseResultsReader(mssql_path, \"MSSQL\", \"MSSQL\", cpu_cores_mapper, indexing_mapper).getDataFrame(2), ignore_index=True)\n",
    "df = df.append(rr.DatabaseResultsReader(postgres_path, \"Postgres\", \"Postgres\", cpu_cores_mapper, indexing_mapper).getDataFrame(2), ignore_index=True)\n",
    "df = df.append(rr.DatabaseResultsReader(mariadb_aria_path, \"MariaDB\", \"Aria\", cpu_cores_mapper, indexing_mapper).getDataFrame(2), ignore_index=True)\n",
    "df = df.append(rr.DatabaseResultsReader(oracle_path, \"Oracle\", \"Oracle\", cpu_cores_mapper, indexing_mapper).getDataFrame(2), ignore_index=True)"
   ]
  },
  {
   "cell_type": "code",
   "execution_count": 5,
   "metadata": {},
   "outputs": [],
   "source": [
    "ddf = df[(df['test_name'] == rr.TestName.LOG.value) & (df['query_type'] == rr.QueryType.ALL.value.upper())]"
   ]
  },
  {
   "cell_type": "code",
   "execution_count": 6,
   "metadata": {},
   "outputs": [],
   "source": [
    "log_all_df = ddf[['database', 'engine', 'real', 'result_size']].groupby(['database', 'engine', 'result_size']).mean().reset_index()"
   ]
  },
  {
   "cell_type": "code",
   "execution_count": 7,
   "metadata": {},
   "outputs": [
    {
     "data": {
      "text/plain": [
       "<AxesSubplot:xlabel='result_size'>"
      ]
     },
     "execution_count": 7,
     "metadata": {},
     "output_type": "execute_result"
    },
    {
     "data": {
      "image/png": "[encoded data removed]",
      "text/plain": [
       "<Figure size 432x288 with 1 Axes>"
      ]
     },
     "metadata": {
      "needs_background": "light"
     },
     "output_type": "display_data"
    }
   ],
   "source": [
    "log_all_df.plot.line(x='result_size', y='real', legend='true')"
   ]
  },
  {
   "cell_type": "code",
   "execution_count": 8,
   "metadata": {},
   "outputs": [
    {
     "data": {
      "text/html": [
       "<div>\n",
       "<style scoped>\n",
       "    .dataframe tbody tr th:only-of-type {\n",
       "        vertical-align: middle;\n",
       "    }\n",
       "\n",
       "    .dataframe tbody tr th {\n",
       "        vertical-align: top;\n",
       "    }\n",
       "\n",
       "    .dataframe thead th {\n",
       "        text-align: right;\n",
       "    }\n",
       "</style>\n",
       "<table border=\"1\" class=\"dataframe\">\n",
       "  <thead>\n",
       "    <tr style=\"text-align: right;\">\n",
       "      <th></th>\n",
       "      <th>result_size</th>\n",
       "      <th>real</th>\n",
       "    </tr>\n",
       "  </thead>\n",
       "  <tbody>\n",
       "    <tr>\n",
       "      <th>0</th>\n",
       "      <td>1.0</td>\n",
       "      <td>0.014417</td>\n",
       "    </tr>\n",
       "    <tr>\n",
       "      <th>1</th>\n",
       "      <td>10.0</td>\n",
       "      <td>0.012550</td>\n",
       "    </tr>\n",
       "    <tr>\n",
       "      <th>2</th>\n",
       "      <td>100.0</td>\n",
       "      <td>0.014000</td>\n",
       "    </tr>\n",
       "    <tr>\n",
       "      <th>3</th>\n",
       "      <td>1000.0</td>\n",
       "      <td>0.017800</td>\n",
       "    </tr>\n",
       "    <tr>\n",
       "      <th>4</th>\n",
       "      <td>10000.0</td>\n",
       "      <td>0.052467</td>\n",
       "    </tr>\n",
       "    <tr>\n",
       "      <th>5</th>\n",
       "      <td>100000.0</td>\n",
       "      <td>0.352767</td>\n",
       "    </tr>\n",
       "    <tr>\n",
       "      <th>6</th>\n",
       "      <td>1000000.0</td>\n",
       "      <td>3.372517</td>\n",
       "    </tr>\n",
       "    <tr>\n",
       "      <th>7</th>\n",
       "      <td>10000000.0</td>\n",
       "      <td>33.896333</td>\n",
       "    </tr>\n",
       "  </tbody>\n",
       "</table>\n",
       "</div>"
      ],
      "text/plain": [
       "   result_size       real\n",
       "0          1.0   0.014417\n",
       "1         10.0   0.012550\n",
       "2        100.0   0.014000\n",
       "3       1000.0   0.017800\n",
       "4      10000.0   0.052467\n",
       "5     100000.0   0.352767\n",
       "6    1000000.0   3.372517\n",
       "7   10000000.0  33.896333"
      ]
     },
     "execution_count": 8,
     "metadata": {},
     "output_type": "execute_result"
    }
   ],
   "source": [
    "log_all_df[(log_all_df['database'] == 'MSSQL') & (log_all_df['engine'] == 'MSSQL')][['result_size', 'real']]"
   ]
  },
  {
   "cell_type": "code",
   "execution_count": 9,
   "metadata": {},
   "outputs": [
    {
     "data": {
      "image/png": "[encoded data removed]",
      "text/plain": [
       "<Figure size 720x432 with 1 Axes>"
      ]
     },
     "metadata": {
      "needs_background": "light"
     },
     "output_type": "display_data"
    }
   ],
   "source": [
    "# plot logarithmically results\n",
    "fig, ax = plt.subplots(figsize=(10, 6))\n",
    "for database, engine in list(log_all_df[['database', 'engine']].groupby(['database', 'engine']).groups.keys()):\n",
    "    plot_df = log_all_df[(log_all_df['database'] == database) & (log_all_df['engine'] == engine)]\n",
    "    plot_df = plot_df[['result_size', 'real']]\n",
    "    plot_df = plot_df.append(pd.DataFrame([val for val in (np.arange(100, 10000000, 100)) if val not in [100, 1000, 10000, 100000, 1000000]], columns=['result_size']))\n",
    "    plot_df = plot_df.sort_values('result_size')\n",
    "    plot_df = plot_df.set_index('result_size')\n",
    "    plot_df = plot_df.interpolate()\n",
    "    if database != engine:\n",
    "        label = f\"{database} {engine}\"\n",
    "    else:\n",
    "        label = database\n",
    "    ax.plot(plot_df, label=label)\n",
    "ax.set_xscale(\"log\")\n",
    "ax.set_ylim([0, 40])\n",
    "ax.legend()\n",
    "plt.show()"
   ]
  },
  {
   "cell_type": "code",
   "execution_count": 90,
   "metadata": {},
   "outputs": [],
   "source": [
    "def plot_results_log(df_results, test_name, query_type, path=None, yMin=0, yMax=0, xMin=1, xMax=10000000):\n",
    "    df = df_results[(df_results['test_name'] == test_name) & (df_results['query_type'] == query_type.upper())]\n",
    "    df = df[['database', 'engine', 'real', 'result_size']].groupby(['database', 'engine', 'result_size']).mean().reset_index()\n",
    "    width = 10\n",
    "    height = 6\n",
    "    if(path):\n",
    "        width = 25\n",
    "        height = 10\n",
    "    fig, ax = plt.subplots(figsize=(width, height))\n",
    "    for database, engine, color in legend:\n",
    "        plot_df = df[(df['database'] == database) & (df['engine'] == engine)]\n",
    "        plot_df = plot_df[['result_size', 'real']]\n",
    "        plot_df = plot_df[(plot_df[\"result_size\"] >= xMin) & plot_df[\"result_size\"] <= xMax]\n",
    "        plot_df = plot_df.append(pd.DataFrame([val for val in (np.arange((100 if xMin == 1 else xMin), xMax, 100)) if val not in [100, 1000, 10000, 100000, 1000000]], columns=['result_size']))\n",
    "        plot_df = plot_df.sort_values('result_size')\n",
    "        plot_df = plot_df.set_index('result_size')\n",
    "        plot_df = plot_df.interpolate()\n",
    "        if database != engine:\n",
    "            label = f\"{database} {engine}\"\n",
    "        else:\n",
    "            label = database\n",
    "        ax.plot(plot_df, label=label, color=color)\n",
    "    ax.set_xscale(\"log\")\n",
    "    yMax = df['real'].max() if yMax == 0 else yMax;\n",
    "    ax.set_ylim([yMin, yMax])\n",
    "    ax.set_ylabel('Czas [s]')\n",
    "    ax.set_xlim([xMin, xMax])\n",
    "    ax.set_xlabel('Rozmiar tabeli')\n",
    "    ax.legend(fontsize='large', loc='upper left')\n",
    "    if path:\n",
    "        for item in ([ax.title, ax.xaxis.label, ax.yaxis.label] +\n",
    "             ax.get_xticklabels() + ax.get_yticklabels()):\n",
    "            item.set_fontsize(\"large\")\n",
    "        fig.savefig(path, bbox_inches='tight')\n",
    "        plt.close()\n",
    "    else:\n",
    "        plt.show()"
   ]
  },
  {
   "cell_type": "code",
   "execution_count": 93,
   "metadata": {},
   "outputs": [],
   "source": [
    "plot_results_log(df_results, rr.TestName.LOG.value, rr.QueryType.ALL.value, yMax=40, path=r\"C:\\Users\\Szymon\\source\\repos\\praca_inz_repo\\db_perf_tests\\plot.png\")"
   ]
  },
  {
   "cell_type": "code",
   "execution_count": 14,
   "metadata": {},
   "outputs": [],
   "source": []
  }
 ],
 "metadata": {
  "kernelspec": {
   "display_name": "Python 3",
   "language": "python",
   "name": "python3"
  },
  "language_info": {
   "codemirror_mode": {
    "name": "ipython",
    "version": 3
   },
   "file_extension": ".py",
   "mimetype": "text/x-python",
   "name": "python",
   "nbconvert_exporter": "python",
   "pygments_lexer": "ipython3",
   "version": "3.9.0"
  }
 },
 "nbformat": 4,
 "nbformat_minor": 4
}
